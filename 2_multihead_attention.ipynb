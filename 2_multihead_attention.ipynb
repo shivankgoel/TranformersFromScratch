{
  "nbformat": 4,
  "nbformat_minor": 0,
  "metadata": {
    "colab": {
      "provenance": [],
      "authorship_tag": "ABX9TyPOjgNcGB7zHgAgzPdT5r4e",
      "include_colab_link": true
    },
    "kernelspec": {
      "name": "python3",
      "display_name": "Python 3"
    },
    "language_info": {
      "name": "python"
    }
  },
  "cells": [
    {
      "cell_type": "markdown",
      "metadata": {
        "id": "view-in-github",
        "colab_type": "text"
      },
      "source": [
        "<a href=\"https://colab.research.google.com/github/shivankgoel/TranformersFromScratch/blob/main/2_multihead_attention.ipynb\" target=\"_parent\"><img src=\"https://colab.research.google.com/assets/colab-badge.svg\" alt=\"Open In Colab\"/></a>"
      ]
    },
    {
      "cell_type": "code",
      "execution_count": 3,
      "metadata": {
        "id": "XpALYWGltXxZ"
      },
      "outputs": [],
      "source": [
        "import torch\n",
        "import numpy as np\n",
        "import math\n",
        "import matplotlib.pyplot as plt\n",
        "import torch.nn as nn\n",
        "import torch.nn.functional as F\n",
        "\n",
        "def display_attention_matrix(attention_weights):\n",
        "  print(\"Plotting {}\".format(attention_weights))\n",
        "  # Plot the heatmap\n",
        "  plt.figure(figsize=(8, 6))\n",
        "  plt.imshow(attention_weights, cmap='viridis', interpolation='nearest')\n",
        "  plt.colorbar(label='Attention Weight')\n",
        "  plt.title('Attention Heatmap')\n",
        "  plt.xlabel('Key Tokens')\n",
        "  plt.ylabel('Query Tokens')\n",
        "\n",
        "  # Annotate the heatmap for clarity\n",
        "  for i in range(attention_weights.shape[0]):\n",
        "      for j in range(attention_weights.shape[1]):\n",
        "          plt.text(j, i, f'{attention_weights[i, j]:.2f}', ha='center', va='center', color='white')\n",
        "\n",
        "  # Display the heatmap\n",
        "  plt.tight_layout()\n",
        "  plt.show()\n",
        "\n",
        "def softmax(x):\n",
        "  return (np.exp(x) / np.sum(np.exp(x), axis=1, keepdims=True))"
      ]
    },
    {
      "cell_type": "code",
      "source": [
        "batch_sz, voc_sz, input_sz, qkv_sz = 1, 4, 512, 512\n",
        "input = torch.randn((batch_sz, voc_sz, qkv_sz))\n",
        "print(\"Input size\", input.size())\n",
        "\n",
        "qkv_layer = nn.Linear(input_sz, 3 * qkv_sz)\n",
        "qkv = qkv_layer(input)\n",
        "print(\"QKV size\", qkv.size())"
      ],
      "metadata": {
        "colab": {
          "base_uri": "https://localhost:8080/"
        },
        "id": "J08jJzaDtcr0",
        "outputId": "28088c35-d72f-4d44-b241-bbf5ae4e5893"
      },
      "execution_count": 12,
      "outputs": [
        {
          "output_type": "stream",
          "name": "stdout",
          "text": [
            "Input size torch.Size([1, 4, 512])\n",
            "QKV size torch.Size([1, 4, 1536])\n"
          ]
        }
      ]
    },
    {
      "cell_type": "code",
      "source": [
        "num_heads = 8\n",
        "qkv_sz_per_head = qkv_sz // num_heads\n",
        "qkv = qkv.reshape(batch_sz, voc_sz, num_heads, 3 * qkv_sz_per_head)\n",
        "print(qkv.size())\n",
        "qkv = qkv.permute(0, 2, 1, 3)\n",
        "print(qkv.size())\n",
        "q, k, v = qkv.chunk(3, dim=-1)\n",
        "print(q.size(), k.size(), v.size())"
      ],
      "metadata": {
        "colab": {
          "base_uri": "https://localhost:8080/"
        },
        "id": "ngWP_iVOvh60",
        "outputId": "05f01e2b-6c54-4065-f58c-f235e336045b"
      },
      "execution_count": 11,
      "outputs": [
        {
          "output_type": "stream",
          "name": "stdout",
          "text": [
            "torch.Size([1, 4, 8, 192])\n",
            "torch.Size([1, 8, 4, 192])\n",
            "torch.Size([1, 8, 4, 64]) torch.Size([1, 8, 4, 64]) torch.Size([1, 8, 4, 64])\n"
          ]
        }
      ]
    },
    {
      "cell_type": "code",
      "source": [
        "attentions = torch.matmul(q, k.transpose(-1,-2)) / math.sqrt(qkv_sz_per_head)\n",
        "print(attentions.size())\n",
        "\n",
        "mask  = torch.full(attentions.size(), float('-inf'))\n",
        "mask = torch.triu(mask, diagonal=1)\n",
        "print(mask[0][0])\n",
        "\n",
        "masked_attentions = attentions + mask\n",
        "print(masked_attentions.size())\n",
        "attention_weighted_values =  torch.matmul(masked_attentions, v)\n",
        "print(attention_weighted_values.size())\n",
        "attention_weighted_values = attention_weighted_values.permute(0, 2, 1, 3)\n",
        "print(attention_weighted_values.size())\n",
        "attention_weighted_values = attention_weighted_values.reshape(batch_sz, voc_sz, qkv_sz)\n",
        "print(attention_weighted_values.size())"
      ],
      "metadata": {
        "colab": {
          "base_uri": "https://localhost:8080/"
        },
        "id": "NzZpKPpQx3D-",
        "outputId": "79948e5d-3a79-4cbc-930d-d24c5efc5344"
      },
      "execution_count": 25,
      "outputs": [
        {
          "output_type": "stream",
          "name": "stdout",
          "text": [
            "torch.Size([1, 8, 4, 4])\n",
            "tensor([[0., -inf, -inf, -inf],\n",
            "        [0., 0., -inf, -inf],\n",
            "        [0., 0., 0., -inf],\n",
            "        [0., 0., 0., 0.]])\n",
            "torch.Size([1, 8, 4, 4])\n",
            "torch.Size([1, 8, 4, 64])\n",
            "torch.Size([1, 4, 8, 64])\n",
            "torch.Size([1, 4, 512])\n"
          ]
        }
      ]
    },
    {
      "cell_type": "code",
      "source": [
        "class MultiHeadAttention(nn.Module):\n",
        "  def __init__(self, input_sz, qkv_sz, num_heads):\n",
        "    super(MultiHeadAttention, self).__init__()\n",
        "    self.input_sz = input_sz\n",
        "    self.qkv_sz = qkv_sz\n",
        "    self.num_heads = num_heads\n",
        "    self.qkv_sz_per_head = qkv_sz // num_heads\n",
        "\n",
        "    self.qkv_layer = nn.Linear(input_sz, 3 * qkv_sz)\n",
        "    self.out_layer = nn.Linear(qkv_sz, qkv_sz)\n",
        "\n",
        "\n",
        "  def forward(self, input, mask = False):\n",
        "    batch_sz, voc_sz, input_sz = input.size()\n",
        "    print(\"Input size {}\".format(input.size()))\n",
        "    qkv = self.qkv_layer(input)\n",
        "    print(\"QKV size {}\".format(qkv.size()))\n",
        "    qkv = qkv.reshape(batch_sz, voc_sz, self.num_heads, 3 * self.qkv_sz_per_head)\n",
        "    print(\"QKV size after heads division {}\".format(qkv.size()))\n",
        "    qkv = qkv.permute(0, 2, 1, 3)\n",
        "    print(\"QKV size after permuting {}\".format(qkv.size()))\n",
        "    q, k, v = qkv.chunk(3, dim=-1)\n",
        "    print(\"Q size {}, K size {}, V size {}\".format(q.size(), k.size(), v.size()))\n",
        "    attentions = torch.matmul(q, k.transpose(-1,-2)) / math.sqrt(self.qkv_sz_per_head)\n",
        "    print(\"Attentions size {}\".format(attentions.size()))\n",
        "    if mask:\n",
        "      mask  = torch.full(attentions.size(), float('-inf'))\n",
        "      mask = torch.triu(mask, diagonal=1)\n",
        "      attentions = attentions + mask\n",
        "    attention_weighted_values =  torch.matmul(masked_attentions, v)\n",
        "    print(\"Attention weighted values size {}\".format(attention_weighted_values.size()))\n",
        "    attention_weighted_values = attention_weighted_values.permute(0, 2, 1, 3)\n",
        "    print(\"Attention weighted values size after permuting {}\".format(attention_weighted_values.size()))\n",
        "    attention_weighted_values = attention_weighted_values.reshape(batch_sz, voc_sz, self.qkv_sz)\n",
        "    print(\"Attention weighted values size after reshaping {}\".format(attention_weighted_values.size()))\n",
        "    out = self.out_layer(attention_weighted_values)\n",
        "    print(\"Output size after linear layer {}\".format(out.size()))\n",
        "    return out\n",
        "\n",
        "\n",
        "multihead_attention = MultiHeadAttention(input_sz, qkv_sz, num_heads)\n",
        "out = multihead_attention(input, mask=True)"
      ],
      "metadata": {
        "colab": {
          "base_uri": "https://localhost:8080/"
        },
        "id": "fzKxCNE01VUA",
        "outputId": "018837fe-a4f8-486c-c55d-f9254dde03fc"
      },
      "execution_count": 30,
      "outputs": [
        {
          "output_type": "stream",
          "name": "stdout",
          "text": [
            "Input size torch.Size([1, 4, 512])\n",
            "QKV size torch.Size([1, 4, 1536])\n",
            "QKV size after heads division torch.Size([1, 4, 8, 192])\n",
            "QKV size after permuting torch.Size([1, 8, 4, 192])\n",
            "Q size torch.Size([1, 8, 4, 64]), K size torch.Size([1, 8, 4, 64]), V size torch.Size([1, 8, 4, 64])\n",
            "Attentions size torch.Size([1, 8, 4, 4])\n",
            "Attention weighted values size torch.Size([1, 8, 4, 64])\n",
            "Attention weighted values size after permuting torch.Size([1, 4, 8, 64])\n",
            "Attention weighted values size after reshaping torch.Size([1, 4, 512])\n",
            "Output size after linear layer torch.Size([1, 4, 512])\n"
          ]
        }
      ]
    }
  ]
}